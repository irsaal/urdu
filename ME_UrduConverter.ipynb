{
 "cells": [
  {
   "cell_type": "code",
   "execution_count": 1,
   "metadata": {},
   "outputs": [],
   "source": [
    "# Some functions\n",
    "\n",
    "# Take a filename, give back some text\n",
    "def file2text(filename,encoding='utf-8'):\n",
    "    f=open(filename,encoding=encoding)\n",
    "    text=f.read()\n",
    "    f.close()\n",
    "    return text\n",
    "\n",
    "# Take a .csv or .tsv and give back a list of lists\n",
    "def file2rows(filename,sep = ',',no_ufeff=True):\n",
    "    text = file2text(filename)\n",
    "    rows = text.splitlines()\n",
    "    rows = [row.split(sep) for row in rows]\n",
    "    if no_ufeff:\n",
    "        rows[0][0] = rows[0][0].replace(\"\\ufeff\",'')\n",
    "    return rows"
   ]
  },
  {
   "cell_type": "markdown",
   "metadata": {},
   "source": [
    "### Make a canonical dictionary for easy word transformations"
   ]
  },
  {
   "cell_type": "code",
   "execution_count": 6,
   "metadata": {},
   "outputs": [],
   "source": [
    "# Full path to a .csv with the word bank in it\n",
    "\n",
    "word_bank_fn = \"/Users/porterjd/Documents/DH/Penn/Urdu/Roman Urdu Normalizer + Script Converter - V. REGEX Transformer.csv\"\n",
    "\n",
    "# Convert it to a list of lists\n",
    "word_bank_rows = file2rows(word_bank_fn)\n",
    "\n",
    "# Make a dictionary from the rows\n",
    "# Every input term will be a key, and every final form will be its value\n",
    "canonical_d = {}\n",
    "\n",
    "for row in word_bank_rows[1:]:\n",
    "    canonical_d[row[0]] = row[-1]"
   ]
  },
  {
   "cell_type": "markdown",
   "metadata": {},
   "source": [
    "### Take in a string and convert it"
   ]
  },
  {
   "cell_type": "code",
   "execution_count": 60,
   "metadata": {},
   "outputs": [],
   "source": [
    "# Make some dictionaries that show the stuff to be replaced\n",
    "\n",
    "doubled_vowels = {\n",
    "    'oo':'ū',\n",
    "    'uu':'ū',\n",
    "    'aa':'ā',\n",
    "    'ee':'ī',\n",
    "    'ii':'ī'\n",
    "}\n",
    "\n",
    "consonant_targets = ['b','d','f','j','k','m','n','q','r','s','t','v','w','y','z']\n",
    "\n",
    "y_enders = {'ry':'ri','sy':'si','ty':'ti'}"
   ]
  },
  {
   "cell_type": "code",
   "execution_count": 49,
   "metadata": {},
   "outputs": [
    {
     "name": "stdout",
     "output_type": "stream",
     "text": [
      "bb\n",
      "dd\n",
      "ff\n",
      "jj\n",
      "kk\n",
      "mm\n",
      "nn\n",
      "qq\n",
      "rr\n",
      "ss\n",
      "tt\n",
      "vv\n",
      "ww\n",
      "yy\n",
      "zz\n"
     ]
    }
   ],
   "source": [
    "for i in consonant_targets:\n",
    "    x = i + i\n",
    "    print(x)"
   ]
  },
  {
   "cell_type": "code",
   "execution_count": 53,
   "metadata": {},
   "outputs": [],
   "source": [
    "# Making a function (or a few) to deal with each word\n",
    "\n",
    "def converter(someword):\n",
    "    if someword in canonical_d:\n",
    "        clean_word = canonical_d[someword]\n",
    "        \n",
    "    else:\n",
    "        clean_word = someword\n",
    "        # From now on, change clean_word instead of someword\n",
    "\n",
    "        # First do double vowel replacements\n",
    "        for v in doubled_vowels:\n",
    "            if v in clean_word:\n",
    "                clean_word = word.replace(v,doubled_vowels[v])\n",
    "        \n",
    "        \n",
    "        # Swap initial 'e' or 'i' for initial 'ì'\n",
    "        if clean_word[0] == 'e' or clean_word[0] == 'i':\n",
    "            clean_word = 'ì' + clean_word[1:]\n",
    "           \n",
    "        # Swap initial 'u' for 'ù'\n",
    "        if clean_word[0] == 'u':\n",
    "            clean_word = 'ù' + clean_word[1:]\n",
    "            \n",
    "        # Do some 'ñ' and 'e' replacements\n",
    "        clean_word = clean_word.replace('ain','iñ').replace('ein','iñ').replace('on','oñ')\n",
    "        clean_word = clean_word.replace('ey','e').replace('ay','e')\n",
    "        \n",
    "        # Replace some doubled consonants with single consonants\n",
    "        for consonant in consonant_targets:\n",
    "            doubled = consonant + consonant\n",
    "            clean_word = clean_word.replace(doubled,consonant)\n",
    "            \n",
    "        # Deal with some _y expressions\n",
    "        for ending,transform in y_enders.items():\n",
    "            if clean_word.endswith[ending]:\n",
    "                clean_word = clean_word[:-2]\n",
    "                clean_word = clean_word.replace(ending,transform)\n",
    "                clean_word = clean_word + ending\n",
    "            else:\n",
    "                clean_word = clean_word.replace(ending,transform)\n",
    "                \n",
    "        \n",
    "    return clean_word"
   ]
  },
  {
   "cell_type": "code",
   "execution_count": 61,
   "metadata": {},
   "outputs": [
    {
     "name": "stdout",
     "output_type": "stream",
     "text": [
      "yes\n"
     ]
    }
   ],
   "source": [
    "word = 'bvvaddsy'\n",
    "\n",
    "if word.endswith('sy'):\n",
    "    print('yes')"
   ]
  },
  {
   "cell_type": "code",
   "execution_count": 62,
   "metadata": {},
   "outputs": [],
   "source": [
    "# Getting some sample words to mess with\n",
    "\n",
    "sample_string = \"yahan to sab n apna taruf karwa ak to bola galt baki sab n apni language ka taruf karwa diya kisi mn koi…\"\n",
    "\n",
    "words = sample_string.split()\n",
    "\n",
    "# Using a list comprehension to lowercase the words\n",
    "words = [i.lower() for i in words]\n",
    "\n",
    "new_sample = \" \".join(words)"
   ]
  },
  {
   "cell_type": "code",
   "execution_count": 63,
   "metadata": {},
   "outputs": [
    {
     "data": {
      "text/plain": [
       "'yahan to sab n apna taruf karwa ak to bola galt baki sab n apni language ka taruf karwa diya kisi mn koi…'"
      ]
     },
     "execution_count": 63,
     "metadata": {},
     "output_type": "execute_result"
    }
   ],
   "source": [
    "new_sample"
   ]
  },
  {
   "cell_type": "code",
   "execution_count": 22,
   "metadata": {},
   "outputs": [
    {
     "name": "stdout",
     "output_type": "stream",
     "text": [
      "yahan\n"
     ]
    },
    {
     "ename": "UnboundLocalError",
     "evalue": "local variable 'clean_word' referenced before assignment",
     "output_type": "error",
     "traceback": [
      "\u001b[0;31m---------------------------------------------------------------------------\u001b[0m",
      "\u001b[0;31mUnboundLocalError\u001b[0m                         Traceback (most recent call last)",
      "\u001b[0;32m<ipython-input-22-73a5fe1923c9>\u001b[0m in \u001b[0;36m<module>\u001b[0;34m\u001b[0m\n\u001b[1;32m      1\u001b[0m \u001b[0;32mfor\u001b[0m \u001b[0mw\u001b[0m \u001b[0;32min\u001b[0m \u001b[0mwords\u001b[0m\u001b[0;34m:\u001b[0m\u001b[0;34m\u001b[0m\u001b[0;34m\u001b[0m\u001b[0m\n\u001b[0;32m----> 2\u001b[0;31m     \u001b[0mclean\u001b[0m \u001b[0;34m=\u001b[0m \u001b[0mconverter\u001b[0m\u001b[0;34m(\u001b[0m\u001b[0mw\u001b[0m\u001b[0;34m)\u001b[0m\u001b[0;34m\u001b[0m\u001b[0;34m\u001b[0m\u001b[0m\n\u001b[0m\u001b[1;32m      3\u001b[0m     \u001b[0mprint\u001b[0m\u001b[0;34m(\u001b[0m\u001b[0mclean\u001b[0m\u001b[0;34m)\u001b[0m\u001b[0;34m\u001b[0m\u001b[0;34m\u001b[0m\u001b[0m\n",
      "\u001b[0;32m<ipython-input-21-eab085b354ed>\u001b[0m in \u001b[0;36mconverter\u001b[0;34m(someword)\u001b[0m\n\u001b[1;32m      4\u001b[0m     \u001b[0;32mif\u001b[0m \u001b[0msomeword\u001b[0m \u001b[0;32min\u001b[0m \u001b[0mcanonical_d\u001b[0m\u001b[0;34m:\u001b[0m\u001b[0;34m\u001b[0m\u001b[0;34m\u001b[0m\u001b[0m\n\u001b[1;32m      5\u001b[0m         \u001b[0mclean_word\u001b[0m \u001b[0;34m=\u001b[0m \u001b[0mcanonical_d\u001b[0m\u001b[0;34m[\u001b[0m\u001b[0msomeword\u001b[0m\u001b[0;34m]\u001b[0m\u001b[0;34m\u001b[0m\u001b[0;34m\u001b[0m\u001b[0m\n\u001b[0;32m----> 6\u001b[0;31m     \u001b[0;32mreturn\u001b[0m \u001b[0mclean_word\u001b[0m\u001b[0;34m\u001b[0m\u001b[0;34m\u001b[0m\u001b[0m\n\u001b[0m",
      "\u001b[0;31mUnboundLocalError\u001b[0m: local variable 'clean_word' referenced before assignment"
     ]
    }
   ],
   "source": [
    "for w in words:\n",
    "    clean = converter(w)\n",
    "    print(clean)"
   ]
  },
  {
   "cell_type": "code",
   "execution_count": null,
   "metadata": {},
   "outputs": [],
   "source": []
  }
 ],
 "metadata": {
  "kernelspec": {
   "display_name": "Python 3",
   "language": "python",
   "name": "python3"
  },
  "language_info": {
   "codemirror_mode": {
    "name": "ipython",
    "version": 3
   },
   "file_extension": ".py",
   "mimetype": "text/x-python",
   "name": "python",
   "nbconvert_exporter": "python",
   "pygments_lexer": "ipython3",
   "version": "3.8.3"
  }
 },
 "nbformat": 4,
 "nbformat_minor": 4
}
